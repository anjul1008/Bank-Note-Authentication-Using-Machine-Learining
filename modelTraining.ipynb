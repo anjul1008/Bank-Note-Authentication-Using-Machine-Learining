{
 "cells": [
  {
   "cell_type": "code",
   "execution_count": 1,
   "metadata": {
    "ExecuteTime": {
     "end_time": "2021-06-16T10:16:30.424817Z",
     "start_time": "2021-06-16T10:16:30.423273Z"
    }
   },
   "outputs": [],
   "source": [
    "# Env path\n",
    "# /media/anjul/drive1/projects/vads/voice-activity-detection/env36"
   ]
  },
  {
   "cell_type": "markdown",
   "metadata": {},
   "source": [
    "# Bank Note Authentication\n",
    "\n",
    "Data were extracted from images that were taken from genuine and forged banknote-like specimens. For digitization, an industrial camera usually used for print inspection was used. The final images have 400x 400 pixels. Due to the object lens and distance to the investigated object gray-scale pictures with a resolution of about 660 dpi were gained. Wavelet Transform tool were used to extract features from images."
   ]
  },
  {
   "cell_type": "code",
   "execution_count": 3,
   "metadata": {
    "ExecuteTime": {
     "end_time": "2021-06-16T10:18:16.458532Z",
     "start_time": "2021-06-16T10:18:15.516976Z"
    }
   },
   "outputs": [],
   "source": [
    "import numpy as np\n",
    "import pandas as pd"
   ]
  },
  {
   "cell_type": "code",
   "execution_count": 6,
   "metadata": {
    "ExecuteTime": {
     "end_time": "2021-06-16T10:19:58.942824Z",
     "start_time": "2021-06-16T10:19:58.902445Z"
    }
   },
   "outputs": [],
   "source": [
    "# Bank Note Authentication dataset\n",
    "datafile = 'data/BankNote_Authentication.csv'\n",
    "\n",
    "data = pd.read_csv(datafile)"
   ]
  },
  {
   "cell_type": "code",
   "execution_count": 8,
   "metadata": {
    "ExecuteTime": {
     "end_time": "2021-06-16T10:20:11.250580Z",
     "start_time": "2021-06-16T10:20:11.241316Z"
    }
   },
   "outputs": [
    {
     "name": "stdout",
     "output_type": "stream",
     "text": [
      "<class 'pandas.core.frame.DataFrame'>\n",
      "RangeIndex: 1372 entries, 0 to 1371\n",
      "Data columns (total 5 columns):\n",
      " #   Column    Non-Null Count  Dtype  \n",
      "---  ------    --------------  -----  \n",
      " 0   variance  1372 non-null   float64\n",
      " 1   skewness  1372 non-null   float64\n",
      " 2   curtosis  1372 non-null   float64\n",
      " 3   entropy   1372 non-null   float64\n",
      " 4   class     1372 non-null   int64  \n",
      "dtypes: float64(4), int64(1)\n",
      "memory usage: 53.7 KB\n"
     ]
    }
   ],
   "source": [
    "# data object type information\n",
    "data.info()"
   ]
  },
  {
   "cell_type": "code",
   "execution_count": 11,
   "metadata": {
    "ExecuteTime": {
     "end_time": "2021-06-16T10:21:33.210614Z",
     "start_time": "2021-06-16T10:21:33.189667Z"
    }
   },
   "outputs": [
    {
     "data": {
      "text/html": [
       "<div>\n",
       "<style scoped>\n",
       "    .dataframe tbody tr th:only-of-type {\n",
       "        vertical-align: middle;\n",
       "    }\n",
       "\n",
       "    .dataframe tbody tr th {\n",
       "        vertical-align: top;\n",
       "    }\n",
       "\n",
       "    .dataframe thead th {\n",
       "        text-align: right;\n",
       "    }\n",
       "</style>\n",
       "<table border=\"1\" class=\"dataframe\">\n",
       "  <thead>\n",
       "    <tr style=\"text-align: right;\">\n",
       "      <th></th>\n",
       "      <th>variance</th>\n",
       "      <th>skewness</th>\n",
       "      <th>curtosis</th>\n",
       "      <th>entropy</th>\n",
       "      <th>class</th>\n",
       "    </tr>\n",
       "  </thead>\n",
       "  <tbody>\n",
       "    <tr>\n",
       "      <th>count</th>\n",
       "      <td>1372.000000</td>\n",
       "      <td>1372.000000</td>\n",
       "      <td>1372.000000</td>\n",
       "      <td>1372.000000</td>\n",
       "      <td>1372.000000</td>\n",
       "    </tr>\n",
       "    <tr>\n",
       "      <th>mean</th>\n",
       "      <td>0.433735</td>\n",
       "      <td>1.922353</td>\n",
       "      <td>1.397627</td>\n",
       "      <td>-1.191657</td>\n",
       "      <td>0.444606</td>\n",
       "    </tr>\n",
       "    <tr>\n",
       "      <th>std</th>\n",
       "      <td>2.842763</td>\n",
       "      <td>5.869047</td>\n",
       "      <td>4.310030</td>\n",
       "      <td>2.101013</td>\n",
       "      <td>0.497103</td>\n",
       "    </tr>\n",
       "    <tr>\n",
       "      <th>min</th>\n",
       "      <td>-7.042100</td>\n",
       "      <td>-13.773100</td>\n",
       "      <td>-5.286100</td>\n",
       "      <td>-8.548200</td>\n",
       "      <td>0.000000</td>\n",
       "    </tr>\n",
       "    <tr>\n",
       "      <th>25%</th>\n",
       "      <td>-1.773000</td>\n",
       "      <td>-1.708200</td>\n",
       "      <td>-1.574975</td>\n",
       "      <td>-2.413450</td>\n",
       "      <td>0.000000</td>\n",
       "    </tr>\n",
       "    <tr>\n",
       "      <th>50%</th>\n",
       "      <td>0.496180</td>\n",
       "      <td>2.319650</td>\n",
       "      <td>0.616630</td>\n",
       "      <td>-0.586650</td>\n",
       "      <td>0.000000</td>\n",
       "    </tr>\n",
       "    <tr>\n",
       "      <th>75%</th>\n",
       "      <td>2.821475</td>\n",
       "      <td>6.814625</td>\n",
       "      <td>3.179250</td>\n",
       "      <td>0.394810</td>\n",
       "      <td>1.000000</td>\n",
       "    </tr>\n",
       "    <tr>\n",
       "      <th>max</th>\n",
       "      <td>6.824800</td>\n",
       "      <td>12.951600</td>\n",
       "      <td>17.927400</td>\n",
       "      <td>2.449500</td>\n",
       "      <td>1.000000</td>\n",
       "    </tr>\n",
       "  </tbody>\n",
       "</table>\n",
       "</div>"
      ],
      "text/plain": [
       "          variance     skewness     curtosis      entropy        class\n",
       "count  1372.000000  1372.000000  1372.000000  1372.000000  1372.000000\n",
       "mean      0.433735     1.922353     1.397627    -1.191657     0.444606\n",
       "std       2.842763     5.869047     4.310030     2.101013     0.497103\n",
       "min      -7.042100   -13.773100    -5.286100    -8.548200     0.000000\n",
       "25%      -1.773000    -1.708200    -1.574975    -2.413450     0.000000\n",
       "50%       0.496180     2.319650     0.616630    -0.586650     0.000000\n",
       "75%       2.821475     6.814625     3.179250     0.394810     1.000000\n",
       "max       6.824800    12.951600    17.927400     2.449500     1.000000"
      ]
     },
     "execution_count": 11,
     "metadata": {},
     "output_type": "execute_result"
    }
   ],
   "source": [
    "# data description \n",
    "# not usefull here\n",
    "data.describe()"
   ]
  },
  {
   "cell_type": "code",
   "execution_count": 13,
   "metadata": {
    "ExecuteTime": {
     "end_time": "2021-06-16T10:22:30.562585Z",
     "start_time": "2021-06-16T10:22:30.557668Z"
    }
   },
   "outputs": [
    {
     "data": {
      "text/plain": [
       "variance    1372\n",
       "skewness    1372\n",
       "curtosis    1372\n",
       "entropy     1372\n",
       "class       1372\n",
       "dtype: int64"
      ]
     },
     "execution_count": 13,
     "metadata": {},
     "output_type": "execute_result"
    }
   ],
   "source": [
    "# count rows\n",
    "data.count()"
   ]
  },
  {
   "cell_type": "markdown",
   "metadata": {},
   "source": [
    "."
   ]
  },
  {
   "cell_type": "markdown",
   "metadata": {},
   "source": [
    "#############################################\n",
    "\n",
    "**no need to do any data preprocessing here**\n",
    "#############################################\n"
   ]
  },
  {
   "cell_type": "code",
   "execution_count": 17,
   "metadata": {
    "ExecuteTime": {
     "end_time": "2021-06-16T10:32:01.744090Z",
     "start_time": "2021-06-16T10:32:01.741827Z"
    }
   },
   "outputs": [],
   "source": [
    "sklearn.__version__\n",
    "from sklearn.model_selection import train_test_split"
   ]
  },
  {
   "cell_type": "code",
   "execution_count": 24,
   "metadata": {
    "ExecuteTime": {
     "end_time": "2021-06-16T10:36:54.358018Z",
     "start_time": "2021-06-16T10:36:54.352930Z"
    }
   },
   "outputs": [
    {
     "data": {
      "text/plain": [
       "(pandas.core.series.Series,\n",
       " pandas.core.series.Series,\n",
       " pandas.core.frame.DataFrame)"
      ]
     },
     "execution_count": 24,
     "metadata": {},
     "output_type": "execute_result"
    }
   ],
   "source": [
    "# series # both are same \n",
    "data['variance']\n",
    "data.variance\n",
    "\n",
    "# dataFream\n",
    "data[['variance']]\n",
    "\n",
    "type(data['variance']), type(data.variance), type(data[['variance']])"
   ]
  },
  {
   "cell_type": "code",
   "execution_count": 25,
   "metadata": {
    "ExecuteTime": {
     "end_time": "2021-06-16T10:37:35.163196Z",
     "start_time": "2021-06-16T10:37:35.156650Z"
    }
   },
   "outputs": [
    {
     "data": {
      "text/html": [
       "<div>\n",
       "<style scoped>\n",
       "    .dataframe tbody tr th:only-of-type {\n",
       "        vertical-align: middle;\n",
       "    }\n",
       "\n",
       "    .dataframe tbody tr th {\n",
       "        vertical-align: top;\n",
       "    }\n",
       "\n",
       "    .dataframe thead th {\n",
       "        text-align: right;\n",
       "    }\n",
       "</style>\n",
       "<table border=\"1\" class=\"dataframe\">\n",
       "  <thead>\n",
       "    <tr style=\"text-align: right;\">\n",
       "      <th></th>\n",
       "      <th>variance</th>\n",
       "      <th>skewness</th>\n",
       "      <th>curtosis</th>\n",
       "      <th>entropy</th>\n",
       "      <th>class</th>\n",
       "    </tr>\n",
       "  </thead>\n",
       "  <tbody>\n",
       "    <tr>\n",
       "      <th>0</th>\n",
       "      <td>3.62160</td>\n",
       "      <td>8.6661</td>\n",
       "      <td>-2.8073</td>\n",
       "      <td>-0.44699</td>\n",
       "      <td>0</td>\n",
       "    </tr>\n",
       "    <tr>\n",
       "      <th>1</th>\n",
       "      <td>4.54590</td>\n",
       "      <td>8.1674</td>\n",
       "      <td>-2.4586</td>\n",
       "      <td>-1.46210</td>\n",
       "      <td>0</td>\n",
       "    </tr>\n",
       "    <tr>\n",
       "      <th>2</th>\n",
       "      <td>3.86600</td>\n",
       "      <td>-2.6383</td>\n",
       "      <td>1.9242</td>\n",
       "      <td>0.10645</td>\n",
       "      <td>0</td>\n",
       "    </tr>\n",
       "    <tr>\n",
       "      <th>3</th>\n",
       "      <td>3.45660</td>\n",
       "      <td>9.5228</td>\n",
       "      <td>-4.0112</td>\n",
       "      <td>-3.59440</td>\n",
       "      <td>0</td>\n",
       "    </tr>\n",
       "    <tr>\n",
       "      <th>4</th>\n",
       "      <td>0.32924</td>\n",
       "      <td>-4.4552</td>\n",
       "      <td>4.5718</td>\n",
       "      <td>-0.98880</td>\n",
       "      <td>0</td>\n",
       "    </tr>\n",
       "  </tbody>\n",
       "</table>\n",
       "</div>"
      ],
      "text/plain": [
       "   variance  skewness  curtosis  entropy  class\n",
       "0   3.62160    8.6661   -2.8073 -0.44699      0\n",
       "1   4.54590    8.1674   -2.4586 -1.46210      0\n",
       "2   3.86600   -2.6383    1.9242  0.10645      0\n",
       "3   3.45660    9.5228   -4.0112 -3.59440      0\n",
       "4   0.32924   -4.4552    4.5718 -0.98880      0"
      ]
     },
     "execution_count": 25,
     "metadata": {},
     "output_type": "execute_result"
    }
   ],
   "source": [
    "data.head()"
   ]
  },
  {
   "cell_type": "code",
   "execution_count": 38,
   "metadata": {
    "ExecuteTime": {
     "end_time": "2021-06-16T10:43:26.494474Z",
     "start_time": "2021-06-16T10:43:26.490081Z"
    }
   },
   "outputs": [
    {
     "data": {
      "text/plain": [
       "(pandas.core.frame.DataFrame,\n",
       " 0       0\n",
       " 1       0\n",
       " 2       0\n",
       " 3       0\n",
       " 4       0\n",
       "        ..\n",
       " 1367    1\n",
       " 1368    1\n",
       " 1369    1\n",
       " 1370    1\n",
       " 1371    1\n",
       " Name: class, Length: 1372, dtype: int64)"
      ]
     },
     "execution_count": 38,
     "metadata": {},
     "output_type": "execute_result"
    }
   ],
   "source": [
    "# split into train, test dataframes\n",
    "X = data.iloc[:, :-1]\n",
    "Y = data.iloc[:, -1]\n",
    "\n",
    "type(X), Y"
   ]
  },
  {
   "cell_type": "code",
   "execution_count": 39,
   "metadata": {
    "ExecuteTime": {
     "end_time": "2021-06-16T10:45:17.919864Z",
     "start_time": "2021-06-16T10:45:17.916230Z"
    }
   },
   "outputs": [],
   "source": [
    "# train test spliting to model\n",
    "x_train, x_test, y_train, y_test = train_test_split(X, Y, test_size=0.1, random_state=22)"
   ]
  },
  {
   "cell_type": "code",
   "execution_count": 52,
   "metadata": {
    "ExecuteTime": {
     "end_time": "2021-06-16T10:54:02.096081Z",
     "start_time": "2021-06-16T10:54:01.949986Z"
    }
   },
   "outputs": [
    {
     "data": {
      "text/plain": [
       "RandomForestClassifier(bootstrap=True, ccp_alpha=0.0, class_weight=None,\n",
       "                       criterion='gini', max_depth=None, max_features='auto',\n",
       "                       max_leaf_nodes=None, max_samples=None,\n",
       "                       min_impurity_decrease=0.0, min_impurity_split=None,\n",
       "                       min_samples_leaf=1, min_samples_split=2,\n",
       "                       min_weight_fraction_leaf=0.0, n_estimators=100,\n",
       "                       n_jobs=None, oob_score=False, random_state=None,\n",
       "                       verbose=0, warm_start=False)"
      ]
     },
     "execution_count": 52,
     "metadata": {},
     "output_type": "execute_result"
    }
   ],
   "source": [
    "### Implement Random Forest classifier\n",
    "from sklearn.ensemble import RandomForestClassifier\n",
    "classifier = RandomForestClassifier()\n",
    "classifier.fit(x_train, y_train)"
   ]
  },
  {
   "cell_type": "code",
   "execution_count": 53,
   "metadata": {
    "ExecuteTime": {
     "end_time": "2021-06-16T10:54:03.479331Z",
     "start_time": "2021-06-16T10:54:03.467448Z"
    }
   },
   "outputs": [],
   "source": [
    "# prediction on test data\n",
    "y_pred = classifier.predict(x_test)"
   ]
  },
  {
   "cell_type": "code",
   "execution_count": 54,
   "metadata": {
    "ExecuteTime": {
     "end_time": "2021-06-16T10:54:04.427291Z",
     "start_time": "2021-06-16T10:54:04.422909Z"
    }
   },
   "outputs": [
    {
     "data": {
      "text/plain": [
       "0.9927536231884058"
      ]
     },
     "execution_count": 54,
     "metadata": {},
     "output_type": "execute_result"
    }
   ],
   "source": [
    "# model accuracy\n",
    "from sklearn.metrics import accuracy_score \n",
    "score = accuracy_score(y_test, y_pred)\n",
    "score"
   ]
  },
  {
   "cell_type": "code",
   "execution_count": 56,
   "metadata": {
    "ExecuteTime": {
     "end_time": "2021-06-16T10:54:43.689387Z",
     "start_time": "2021-06-16T10:54:43.686827Z"
    }
   },
   "outputs": [],
   "source": [
    "# save model to file\n",
    "import pickle"
   ]
  },
  {
   "cell_type": "code",
   "execution_count": 61,
   "metadata": {
    "ExecuteTime": {
     "end_time": "2021-06-16T10:58:58.200421Z",
     "start_time": "2021-06-16T10:58:58.086269Z"
    }
   },
   "outputs": [],
   "source": [
    "%mkdir -p model"
   ]
  },
  {
   "cell_type": "code",
   "execution_count": 62,
   "metadata": {
    "ExecuteTime": {
     "end_time": "2021-06-16T10:59:08.773782Z",
     "start_time": "2021-06-16T10:59:08.767869Z"
    }
   },
   "outputs": [],
   "source": [
    "model_out = open('model/authentication_classifier.pkl', 'wb')\n",
    "pickle.dump(classifier, model_out)\n",
    "model_out.close()"
   ]
  },
  {
   "cell_type": "markdown",
   "metadata": {
    "ExecuteTime": {
     "end_time": "2021-06-16T10:58:45.397081Z",
     "start_time": "2021-06-16T10:58:45.282295Z"
    }
   },
   "source": []
  },
  {
   "cell_type": "code",
   "execution_count": 67,
   "metadata": {
    "ExecuteTime": {
     "end_time": "2021-06-16T12:30:30.247468Z",
     "start_time": "2021-06-16T12:30:30.235974Z"
    }
   },
   "outputs": [
    {
     "data": {
      "text/plain": [
       "array([[0.78, 0.22]])"
      ]
     },
     "execution_count": 67,
     "metadata": {},
     "output_type": "execute_result"
    }
   ],
   "source": [
    "#test\n",
    "import numpy as np\n",
    "test = [[1,2,3,4]]\n",
    "classifier.predict_proba(test)"
   ]
  },
  {
   "cell_type": "code",
   "execution_count": null,
   "metadata": {},
   "outputs": [],
   "source": []
  },
  {
   "cell_type": "code",
   "execution_count": null,
   "metadata": {},
   "outputs": [],
   "source": []
  },
  {
   "cell_type": "code",
   "execution_count": 68,
   "metadata": {
    "ExecuteTime": {
     "end_time": "2021-06-16T12:31:05.708952Z",
     "start_time": "2021-06-16T12:30:53.312389Z"
    }
   },
   "outputs": [
    {
     "name": "stdout",
     "output_type": "stream",
     "text": [
      "Collecting flasgger\n",
      "\u001b[?25l  Downloading https://files.pythonhosted.org/packages/00/25/9f353c72fd2bf37908bf30509e7dfbb051c96bc08619226807de71ec9150/flasgger-0.9.5-py2.py3-none-any.whl (3.8MB)\n",
      "\u001b[K    100% |████████████████████████████████| 3.8MB 520kB/s ta 0:00:0101\n",
      "\u001b[?25hRequirement already satisfied: jsonschema>=3.0.1 in /media/anjul/drive1/projects/vads/voice-activity-detection/env36/lib/python3.6/site-packages (from flasgger) (3.0.1)\n",
      "Requirement already satisfied: Flask>=0.10 in /media/anjul/drive1/projects/vads/voice-activity-detection/env36/lib/python3.6/site-packages (from flasgger) (2.0.1)\n",
      "Requirement already satisfied: mistune in /media/anjul/drive1/projects/vads/voice-activity-detection/env36/lib/python3.6/site-packages (from flasgger) (0.8.4)\n",
      "Requirement already satisfied: six>=1.10.0 in /media/anjul/drive1/projects/vads/voice-activity-detection/env36/lib/python3.6/site-packages (from flasgger) (1.14.0)\n",
      "Requirement already satisfied: PyYAML>=3.0 in /media/anjul/drive1/projects/vads/voice-activity-detection/env36/lib/python3.6/site-packages (from flasgger) (5.3.1)\n",
      "Requirement already satisfied: attrs>=17.4.0 in /media/anjul/drive1/projects/vads/voice-activity-detection/env36/lib/python3.6/site-packages (from jsonschema>=3.0.1->flasgger) (19.3.0)\n",
      "Requirement already satisfied: pyrsistent>=0.14.0 in /media/anjul/drive1/projects/vads/voice-activity-detection/env36/lib/python3.6/site-packages (from jsonschema>=3.0.1->flasgger) (0.16.0)\n",
      "Requirement already satisfied: setuptools in /media/anjul/drive1/projects/vads/voice-activity-detection/env36/lib/python3.6/site-packages (from jsonschema>=3.0.1->flasgger) (49.2.0)\n",
      "Requirement already satisfied: itsdangerous>=2.0 in /media/anjul/drive1/projects/vads/voice-activity-detection/env36/lib/python3.6/site-packages (from Flask>=0.10->flasgger) (2.0.1)\n",
      "Requirement already satisfied: Werkzeug>=2.0 in /media/anjul/drive1/projects/vads/voice-activity-detection/env36/lib/python3.6/site-packages (from Flask>=0.10->flasgger) (2.0.1)\n",
      "Requirement already satisfied: click>=7.1.2 in /media/anjul/drive1/projects/vads/voice-activity-detection/env36/lib/python3.6/site-packages (from Flask>=0.10->flasgger) (8.0.1)\n",
      "Requirement already satisfied: Jinja2>=3.0 in /media/anjul/drive1/projects/vads/voice-activity-detection/env36/lib/python3.6/site-packages (from Flask>=0.10->flasgger) (3.0.1)\n",
      "Requirement already satisfied: dataclasses; python_version < \"3.7\" in /media/anjul/drive1/projects/vads/voice-activity-detection/env36/lib/python3.6/site-packages (from Werkzeug>=2.0->Flask>=0.10->flasgger) (0.7)\n",
      "Requirement already satisfied: importlib-metadata; python_version < \"3.8\" in /media/anjul/drive1/projects/vads/voice-activity-detection/env36/lib/python3.6/site-packages (from click>=7.1.2->Flask>=0.10->flasgger) (1.6.0)\n",
      "Requirement already satisfied: MarkupSafe>=2.0 in /media/anjul/drive1/projects/vads/voice-activity-detection/env36/lib/python3.6/site-packages (from Jinja2>=3.0->Flask>=0.10->flasgger) (2.0.1)\n",
      "Requirement already satisfied: zipp>=0.5 in /media/anjul/drive1/projects/vads/voice-activity-detection/env36/lib/python3.6/site-packages (from importlib-metadata; python_version < \"3.8\"->click>=7.1.2->Flask>=0.10->flasgger) (3.1.0)\n",
      "Installing collected packages: flasgger\n",
      "Successfully installed flasgger-0.9.5\n",
      "\u001b[33mYou are using pip version 18.1, however version 21.1.2 is available.\n",
      "You should consider upgrading via the 'pip install --upgrade pip' command.\u001b[0m\n"
     ]
    }
   ],
   "source": [
    "!pip install flasgger"
   ]
  },
  {
   "cell_type": "code",
   "execution_count": null,
   "metadata": {},
   "outputs": [],
   "source": []
  }
 ],
 "metadata": {
  "kernelspec": {
   "display_name": "Python 3.6.9 64-bit ('env36': venv)",
   "language": "python",
   "name": "python36964bitenv36venva1e7d6629c214f2bad3384e3e07c1368"
  },
  "language_info": {
   "codemirror_mode": {
    "name": "ipython",
    "version": 3
   },
   "file_extension": ".py",
   "mimetype": "text/x-python",
   "name": "python",
   "nbconvert_exporter": "python",
   "pygments_lexer": "ipython3",
   "version": "3.6.9"
  },
  "toc": {
   "base_numbering": 1,
   "nav_menu": {},
   "number_sections": true,
   "sideBar": true,
   "skip_h1_title": false,
   "title_cell": "Table of Contents",
   "title_sidebar": "Contents",
   "toc_cell": false,
   "toc_position": {},
   "toc_section_display": true,
   "toc_window_display": false
  },
  "varInspector": {
   "cols": {
    "lenName": 16,
    "lenType": 16,
    "lenVar": 40
   },
   "kernels_config": {
    "python": {
     "delete_cmd_postfix": "",
     "delete_cmd_prefix": "del ",
     "library": "var_list.py",
     "varRefreshCmd": "print(var_dic_list())"
    },
    "r": {
     "delete_cmd_postfix": ") ",
     "delete_cmd_prefix": "rm(",
     "library": "var_list.r",
     "varRefreshCmd": "cat(var_dic_list()) "
    }
   },
   "types_to_exclude": [
    "module",
    "function",
    "builtin_function_or_method",
    "instance",
    "_Feature"
   ],
   "window_display": false
  }
 },
 "nbformat": 4,
 "nbformat_minor": 4
}
